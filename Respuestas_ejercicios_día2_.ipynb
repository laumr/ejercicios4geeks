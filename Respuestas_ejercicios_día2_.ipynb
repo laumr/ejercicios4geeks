{
  "nbformat": 4,
  "nbformat_minor": 0,
  "metadata": {
    "colab": {
      "provenance": [],
      "authorship_tag": "ABX9TyMwrKG3arOZRwfeAnF9PdEm",
      "include_colab_link": true
    },
    "kernelspec": {
      "name": "python3",
      "display_name": "Python 3"
    },
    "language_info": {
      "name": "python"
    }
  },
  "cells": [
    {
      "cell_type": "markdown",
      "metadata": {
        "id": "view-in-github",
        "colab_type": "text"
      },
      "source": [
        "<a href=\"https://colab.research.google.com/github/laumr/ejercicios4geeks/blob/main/Respuestas_ejercicios_d%C3%ADa2_.ipynb\" target=\"_parent\"><img src=\"https://colab.research.google.com/assets/colab-badge.svg\" alt=\"Open In Colab\"/></a>"
      ]
    },
    {
      "cell_type": "code",
      "execution_count": null,
      "metadata": {
        "id": "f1jQfWKfXM-f"
      },
      "outputs": [],
      "source": [
        "def factorial(n):\n",
        "  prod = 1\n",
        "  for num in range(2, n+1):\n",
        "    prod = prod * num\n",
        "  return prod"
      ]
    }
  ]
}